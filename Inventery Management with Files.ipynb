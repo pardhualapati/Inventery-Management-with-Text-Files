{
 "cells": [
  {
   "cell_type": "markdown",
   "id": "a23c2b53",
   "metadata": {},
   "source": [
    "# Product Details\n",
    "1.Product ID\n",
    "2.Name of the Product\n",
    "3.Price\n",
    "4.Quantity"
   ]
  },
  {
   "cell_type": "markdown",
   "id": "43f7a109",
   "metadata": {},
   "source": [
    "# Generating Billing Sheet according product and quantity"
   ]
  },
  {
   "cell_type": "code",
   "execution_count": 12,
   "id": "cf4c72c0",
   "metadata": {},
   "outputs": [
    {
     "name": "stdout",
     "output_type": "stream",
     "text": [
      "Enter product ID:3\n",
      "Enter Quantity:2\n",
      "------------------------------------\n",
      " Product Name :  Cake\n",
      " Price        :  300\n",
      "Quantity      :  2\n",
      "-------------------------------------\n",
      "Billing Amount:  600\n",
      "-------------------------------------\n",
      "-----------------------------------\n",
      "Inventery Updated!\n",
      "-----------------------------------\n"
     ]
    }
   ],
   "source": [
    "#Reading the invetery\n",
    "fd = open('inventery.txt','r')\n",
    "products = fd.read().split(\"\\n\")\n",
    "fd.close()\n",
    "\n",
    "#Taking the User Input\n",
    "user_product_id = input(\"Enter product ID:\")\n",
    "user_quantity_req = input(\"Enter Quantity:\")\n",
    "\n",
    "updated_prod_lst = []\n",
    "\n",
    "#checking every product in the inventery\n",
    "for product in products:\n",
    "    \n",
    "    prod_details = product.split(\",\")\n",
    "    \n",
    "    #checking if the product exists\n",
    "    if (prod_details[0] == user_product_id):\n",
    "        \n",
    "        if(int(user_quantity_req) <= int(prod_details[3]) ):\n",
    "            #Checking if user required quanity is available in our inventery or not\n",
    "            \n",
    "            print(\"------------------------------------\")\n",
    "            print(\" Product Name : \", prod_details[1])\n",
    "            print(\" Price        : \", prod_details[2])\n",
    "            print(\"Quantity      : \", user_quantity_req)\n",
    "            print(\"-------------------------------------\")\n",
    "            print(\"Billing Amount: \",int(prod_details[2])*int(user_quantity_req))\n",
    "            print(\"-------------------------------------\")\n",
    "\n",
    "            prod_details[3] = str(int(prod_details[3])-int(user_quantity_req))\n",
    "        \n",
    "        else:\n",
    "            #if the user required quanity greater than the product quantity in the invetery\n",
    "            \n",
    "            print(\"Sorry, We don't have enough Quantity\")\n",
    "            print(\"We only have\",prod_details[3],\"quantity\")\n",
    "            print(\"Would you like to purchase?\")\n",
    "            ch = input(\"Press Y/N:\")\n",
    "            \n",
    "            if(ch == 'y' or ch == 'Y'):\n",
    "                \n",
    "                print(\"------------------------------------\")\n",
    "                print(\" Product Name : \", prod_details[1])\n",
    "                print(\" Price        : \", prod_details[2])\n",
    "                print(\"Quantity      : \", prod_details[3])\n",
    "                print(\"-------------------------------------\")\n",
    "                print(\"Billing Amount: \",int(prod_details[2])*int(prod_details[3]))\n",
    "                print(\"-------------------------------------\")\n",
    "\n",
    "                prod_details[3] = '0'\n",
    "                \n",
    "            else:\n",
    "                \n",
    "                print(\"Thanks\")\n",
    "                \n",
    "    updated_prod_lst.append(prod_details)  \n",
    "        \n",
    "\n",
    "final_lst =[]\n",
    "\n",
    "for i in updated_prod_lst:\n",
    "    s = i[0]+\",\"+i[1]+\",\"+i[2]+\",\"+i[3]+\"\\n\"\n",
    "    final_lst.append(s)\n",
    "final_lst[-1] = final_lst[-1][:-1]   \n",
    "\n",
    "\n",
    "#updating products after billing\n",
    "\n",
    "\n",
    "fd = open(\"inventery.txt\",\"w\")\n",
    " \n",
    "for i in final_lst:\n",
    "    fd.write(i)\n",
    "fd.close()\n",
    "print(\"-----------------------------------\")\n",
    "print(\"Inventery Updated!\")\n",
    "print(\"-----------------------------------\")"
   ]
  },
  {
   "cell_type": "code",
   "execution_count": null,
   "id": "9c56e070",
   "metadata": {},
   "outputs": [],
   "source": []
  },
  {
   "cell_type": "code",
   "execution_count": null,
   "id": "61622f35",
   "metadata": {},
   "outputs": [],
   "source": []
  }
 ],
 "metadata": {
  "kernelspec": {
   "display_name": "Python 3 (ipykernel)",
   "language": "python",
   "name": "python3"
  },
  "language_info": {
   "codemirror_mode": {
    "name": "ipython",
    "version": 3
   },
   "file_extension": ".py",
   "mimetype": "text/x-python",
   "name": "python",
   "nbconvert_exporter": "python",
   "pygments_lexer": "ipython3",
   "version": "3.11.3"
  }
 },
 "nbformat": 4,
 "nbformat_minor": 5
}
